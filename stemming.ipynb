{
 "cells": [
  {
   "cell_type": "markdown",
   "id": "aa669387",
   "metadata": {},
   "source": [
    "STEMMING\n",
    "##### Process of reducing a word to its word stem that affix to suffix and preffix to the root of the words known as lemma."
   ]
  },
  {
   "cell_type": "code",
   "execution_count": 4,
   "id": "ecc52eaf",
   "metadata": {},
   "outputs": [],
   "source": [
    "#Classicification Problem\n",
    "#Comments on product weather is a positive or a negative review\n",
    "## REview---> eating, eat, eaten.  Thus eat is  a stem word.\n",
    "## eg 2: go, going, gone. So go is a stem word"
   ]
  },
  {
   "cell_type": "code",
   "execution_count": 5,
   "id": "83f2e087",
   "metadata": {},
   "outputs": [],
   "source": [
    "words = [\"eating\",\"eat\",\"eaten\",\"puts\",\"put\",\"putting\", \"puts\", \"written\", \"writing\", \"writes\", \"history\", \"histories\", \"finally\", \"finalized\", \"finalizing\"]\n"
   ]
  },
  {
   "cell_type": "markdown",
   "id": "fe5ee1be",
   "metadata": {},
   "source": [
    "#### STEMMING TECHNIQUES\n",
    "##### 1) PorterStemming"
   ]
  },
  {
   "cell_type": "code",
   "execution_count": 6,
   "id": "ef87ee3e",
   "metadata": {},
   "outputs": [],
   "source": [
    "from nltk.stem import PorterStemmer"
   ]
  },
  {
   "cell_type": "code",
   "execution_count": 7,
   "id": "f340b660",
   "metadata": {},
   "outputs": [],
   "source": [
    "stemming = PorterStemmer()"
   ]
  },
  {
   "cell_type": "code",
   "execution_count": 8,
   "id": "7dfdc471",
   "metadata": {},
   "outputs": [
    {
     "name": "stdout",
     "output_type": "stream",
     "text": [
      "eating--->eat\n",
      "eat--->eat\n",
      "eaten--->eaten\n",
      "puts--->put\n",
      "put--->put\n",
      "putting--->put\n",
      "puts--->put\n",
      "written--->written\n",
      "writing--->write\n",
      "writes--->write\n",
      "history--->histori\n",
      "histories--->histori\n",
      "finally--->final\n",
      "finalized--->final\n",
      "finalizing--->final\n"
     ]
    }
   ],
   "source": [
    "for word in words:\n",
    "  print(word+\"--->\"+stemming.stem(word))"
   ]
  },
  {
   "cell_type": "markdown",
   "id": "9b5b32fe",
   "metadata": {},
   "source": [
    "##### Major Disadvantages: from above see History ---> histori, Here the entire meaning of the sentence has changed. "
   ]
  },
  {
   "cell_type": "code",
   "execution_count": 9,
   "id": "8b696b53",
   "metadata": {},
   "outputs": [
    {
     "data": {
      "text/plain": [
       "'congratul'"
      ]
     },
     "execution_count": 9,
     "metadata": {},
     "output_type": "execute_result"
    }
   ],
   "source": [
    "#eg 2\n",
    "stemming.stem(\"congratulation\")  #again the meaning of the word changes."
   ]
  },
  {
   "cell_type": "markdown",
   "id": "178cf8f5",
   "metadata": {},
   "source": [
    "#### Conclution: If its a classification problem then stemming is good. eg:Spam email"
   ]
  },
  {
   "cell_type": "markdown",
   "id": "d3d01540",
   "metadata": {},
   "source": [
    "#### RegexpStemmer CLASS\n",
    "##### with the help of this we can easily implement regular expression stemmer algorithm. It basically takes a single regular expression and removes any prefix or suffix that matches the expression"
   ]
  },
  {
   "cell_type": "code",
   "execution_count": 10,
   "id": "d5dd3416",
   "metadata": {},
   "outputs": [],
   "source": [
    "from nltk.stem import RegexpStemmer\n",
    "reg_stem = RegexpStemmer('ing$|s$|e$|able$|', min=4)"
   ]
  },
  {
   "cell_type": "code",
   "execution_count": 11,
   "id": "ecfeea81",
   "metadata": {},
   "outputs": [
    {
     "data": {
      "text/plain": [
       "'eat'"
      ]
     },
     "execution_count": 11,
     "metadata": {},
     "output_type": "execute_result"
    }
   ],
   "source": [
    "stemming.stem(\"eating\")"
   ]
  },
  {
   "cell_type": "code",
   "execution_count": 12,
   "id": "c89f1a4a",
   "metadata": {},
   "outputs": [
    {
     "data": {
      "text/plain": [
       "'eat'"
      ]
     },
     "execution_count": 12,
     "metadata": {},
     "output_type": "execute_result"
    }
   ],
   "source": [
    "reg_stem.stem(\"eating\")"
   ]
  },
  {
   "cell_type": "code",
   "execution_count": 13,
   "id": "628ed43f",
   "metadata": {},
   "outputs": [
    {
     "data": {
      "text/plain": [
       "'ingeat'"
      ]
     },
     "execution_count": 13,
     "metadata": {},
     "output_type": "execute_result"
    }
   ],
   "source": [
    "#what if\n",
    "reg_stem.stem(\"ingeating\")"
   ]
  },
  {
   "cell_type": "code",
   "execution_count": 14,
   "id": "c0dce804",
   "metadata": {},
   "outputs": [
    {
     "data": {
      "text/plain": [
       "'eat'"
      ]
     },
     "execution_count": 14,
     "metadata": {},
     "output_type": "execute_result"
    }
   ],
   "source": [
    "reg_stem2 = RegexpStemmer('ing|s$|e$|able$|', min=4)\n",
    "reg_stem2.stem(\"ingeating\")    #doller is the key"
   ]
  },
  {
   "cell_type": "markdown",
   "id": "afab8293",
   "metadata": {},
   "source": [
    "#### SnowBall Stemmer\n",
    "##### gives a better accuracy"
   ]
  },
  {
   "cell_type": "code",
   "execution_count": 15,
   "id": "2390de99",
   "metadata": {},
   "outputs": [],
   "source": [
    "from nltk import SnowballStemmer\n",
    "\n",
    "snowball_stemmer = SnowballStemmer('english')"
   ]
  },
  {
   "cell_type": "code",
   "execution_count": 16,
   "id": "761de20d",
   "metadata": {},
   "outputs": [
    {
     "name": "stdout",
     "output_type": "stream",
     "text": [
      "eating--->eat\n",
      "eat--->eat\n",
      "eaten--->eaten\n",
      "puts--->put\n",
      "put--->put\n",
      "putting--->put\n",
      "puts--->put\n",
      "written--->written\n",
      "writing--->write\n",
      "writes--->write\n",
      "history--->histori\n",
      "histories--->histori\n",
      "finally--->final\n",
      "finalized--->final\n",
      "finalizing--->final\n"
     ]
    }
   ],
   "source": [
    "for word in words:\n",
    "    print(word+\"--->\"+stemming.stem(word))   ###basic stemming"
   ]
  },
  {
   "cell_type": "code",
   "execution_count": 17,
   "id": "4e73d42f",
   "metadata": {},
   "outputs": [
    {
     "data": {
      "text/plain": [
       "('fairly', 'sportingly')"
      ]
     },
     "execution_count": 17,
     "metadata": {},
     "output_type": "execute_result"
    }
   ],
   "source": [
    "reg_stem.stem('fairly'),reg_stem.stem('sportingly') #using Regexp Stemmer"
   ]
  },
  {
   "cell_type": "code",
   "execution_count": 18,
   "id": "c51542ca",
   "metadata": {},
   "outputs": [
    {
     "data": {
      "text/plain": [
       "('fair', 'sport')"
      ]
     },
     "execution_count": 18,
     "metadata": {},
     "output_type": "execute_result"
    }
   ],
   "source": [
    "snowball_stemmer.stem('fairly'),snowball_stemmer.stem('sportingly') #Using Snowball stemmer"
   ]
  },
  {
   "cell_type": "code",
   "execution_count": 38,
   "id": "ee9e51a9",
   "metadata": {},
   "outputs": [],
   "source": [
    "stemed_word = [stemming.stem(word) for word in words]\n",
    "reg_stemed_word = [reg_stem.stem(word) for word in words]\n",
    "snowball_stem_word = [snowball_stemmer.stem(word) for word in words]\n"
   ]
  },
  {
   "cell_type": "code",
   "execution_count": 39,
   "id": "ae2345a2",
   "metadata": {},
   "outputs": [
    {
     "name": "stdout",
     "output_type": "stream",
     "text": [
      "Original words: ['eating', 'eat', 'eaten', 'puts', 'put', 'putting', 'puts', 'written', 'writing', 'writes', 'history', 'histories', 'finally', 'finalized', 'finalizing']\n",
      "\n",
      "stemed word: ['eat', 'eat', 'eaten', 'put', 'put', 'put', 'put', 'written', 'write', 'write', 'histori', 'histori', 'final', 'final', 'final']\n",
      "\n",
      "Reg Stemed words: ['eat', 'eat', 'eaten', 'put', 'put', 'putt', 'put', 'written', 'writ', 'write', 'history', 'historie', 'finally', 'finalized', 'finaliz']\n",
      "\n",
      "Snowball Stem word: ['eat', 'eat', 'eaten', 'put', 'put', 'put', 'put', 'written', 'write', 'write', 'histori', 'histori', 'final', 'final', 'final']\n"
     ]
    }
   ],
   "source": [
    "print(\"Original words:\", words)\n",
    "print(\"\\nstemed word:\",stemed_word)\n",
    "print(\"\\nReg Stemed words:\", reg_stemed_word)\n",
    "print(\"\\nSnowball Stem word:\", snowball_stem_word)"
   ]
  },
  {
   "cell_type": "markdown",
   "id": "ffe50773",
   "metadata": {},
   "source": [
    "#### SO for use cases like Chatbot its not used for that we use Lemmetization"
   ]
  },
  {
   "cell_type": "markdown",
   "id": "8088c2d8",
   "metadata": {},
   "source": [
    "#### LEMMETIZATION\n",
    "##### Lemmatization is the process of grouping together the inflected forms of a word so they can be analyzed as a single item. It is similar to stemming, but it brings context to the words. So, it links words with similar meaning."
   ]
  },
  {
   "cell_type": "markdown",
   "id": "5679edfb",
   "metadata": {},
   "source": [
    "#### Word Net Lemmatizer\n",
    "##### WordNet is a large lexical database of English. Nouns, verbs, adjectives and adverbs are grouped into sets of cognitive synonyms (synsets), each expressing a distinct concept. Synsets are interlinked by means of conceptual-semantic and lexical relations."
   ]
  },
  {
   "cell_type": "code",
   "execution_count": 41,
   "id": "f582269e",
   "metadata": {},
   "outputs": [],
   "source": [
    "from nltk.stem import WordNetLemmatizer\n",
    "lemmetizer = WordNetLemmatizer()"
   ]
  },
  {
   "cell_type": "code",
   "execution_count": 48,
   "id": "7a1c9cb2",
   "metadata": {},
   "outputs": [
    {
     "data": {
      "text/plain": [
       "'go'"
      ]
     },
     "execution_count": 48,
     "metadata": {},
     "output_type": "execute_result"
    }
   ],
   "source": [
    "lemmetizer.lemmatize('going',pos='v' ) # pos tag gives idea about the word. 'v' is for verb, 'n' is for noun, 'a' is for adjective, 'r' is for adverb\n",
    "# Here we bascially saying that cosider 'going' as a verb and lemmatize it."
   ]
  },
  {
   "cell_type": "code",
   "execution_count": 50,
   "id": "686083eb",
   "metadata": {},
   "outputs": [],
   "source": [
    "words = [\"eating\",\"eat\",\"eaten\",\"puts\",\"put\",\"putting\", \"puts\", \"written\", \"writing\", \"writes\", \"history\", \"histories\", \"finally\", \"finalized\", \"finalizing\"]\n",
    "\n",
    "lemmatized_words = [lemmetizer.lemmatize(word, pos='v') for word in words]"
   ]
  },
  {
   "cell_type": "code",
   "execution_count": 55,
   "id": "67ec7151",
   "metadata": {},
   "outputs": [
    {
     "name": "stdout",
     "output_type": "stream",
     "text": [
      "eating--->eating\n",
      "eat--->eat\n",
      "eaten--->eaten\n",
      "puts--->put\n",
      "put--->put\n",
      "putting--->putting\n",
      "puts--->put\n",
      "written--->written\n",
      "writing--->writing\n",
      "writes--->writes\n",
      "history--->history\n",
      "histories--->history\n",
      "finally--->finally\n",
      "finalized--->finalized\n",
      "finalizing--->finalizing\n"
     ]
    }
   ],
   "source": [
    "for word in words:\n",
    "    print(word+\"--->\"+lemmetizer.lemmatize(word,pos='n')) #n is for noun"
   ]
  },
  {
   "cell_type": "markdown",
   "id": "5e31f953",
   "metadata": {},
   "source": [
    "#### Disadvantages: if you have a word like \"better\" it will return \"good\" which is not the same meaning. ALso if there is a paragraph and you want to lemmatize the entire paragraph it will take a lot of time."
   ]
  },
  {
   "cell_type": "markdown",
   "id": "775181f2",
   "metadata": {},
   "source": [
    "# Difference Between Stemming and Lemmatization\n",
    "#### 1) Stemming is a process of removing affixes from a word to get to the root form, while lemmatization is a process of grouping together the inflected forms of a word so they can be analyzed as a single item.\n",
    "#### 2) Stemming does not take into account the context of the word, while lemmatization does.\n",
    "#### 3) example qna, textsummarizer, chatbot, lemmatization is used in these use cases."
   ]
  },
  {
   "cell_type": "code",
   "execution_count": null,
   "id": "920d0aee",
   "metadata": {},
   "outputs": [],
   "source": []
  }
 ],
 "metadata": {
  "kernelspec": {
   "display_name": "Python 3",
   "language": "python",
   "name": "python3"
  },
  "language_info": {
   "codemirror_mode": {
    "name": "ipython",
    "version": 3
   },
   "file_extension": ".py",
   "mimetype": "text/x-python",
   "name": "python",
   "nbconvert_exporter": "python",
   "pygments_lexer": "ipython3",
   "version": "3.12.1"
  }
 },
 "nbformat": 4,
 "nbformat_minor": 5
}
